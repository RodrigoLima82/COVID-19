{
  "nbformat": 4,
  "nbformat_minor": 0,
  "metadata": {
    "kernelspec": {
      "display_name": "Python 3",
      "language": "python",
      "name": "python3"
    },
    "language_info": {
      "codemirror_mode": {
        "name": "ipython",
        "version": 3
      },
      "file_extension": ".py",
      "mimetype": "text/x-python",
      "name": "python",
      "nbconvert_exporter": "python",
      "pygments_lexer": "ipython3",
      "version": "3.7.7"
    },
    "papermill": {
      "duration": 498.533596,
      "end_time": "2020-03-16T00:16:15.718145",
      "environment_variables": {},
      "exception": null,
      "input_path": "2020-03-15-covid19_growth_bayes.ipynb",
      "output_path": "2020-03-15-covid19_growth_bayes.ipynb",
      "parameters": {},
      "start_time": "2020-03-16T00:07:57.184549",
      "version": "2.0.0"
    },
    "colab": {
      "name": "COVID-19_Blumenau.ipynb",
      "provenance": []
    }
  },
  "cells": [
    {
      "cell_type": "markdown",
      "metadata": {
        "papermill": {
          "duration": 0.016143,
          "end_time": "2020-03-16T00:07:58.032277",
          "exception": false,
          "start_time": "2020-03-16T00:07:58.016134",
          "status": "completed"
        },
        "tags": [],
        "id": "Krs6sAFZKsSH",
        "colab_type": "text"
      },
      "source": [
        "# Previsão da Taxa de Crescimento do COVID-19 em Blumenau\n",
        "\n",
        "- Criado em    : 23/03/2019\n",
        "- Atualizado em: 01/05/2020\n",
        "- Autor        : Rodrigo de Lima Oliveira (Unimed Blumenau)"
      ]
    },
    {
      "cell_type": "markdown",
      "metadata": {
        "id": "fFbR3RreKsSI",
        "colab_type": "text"
      },
      "source": [
        "## 1. Fonte de Dados\n",
        "- Prefeitura de Blumenau"
      ]
    },
    {
      "cell_type": "markdown",
      "metadata": {
        "id": "VJvMjeqaKsSI",
        "colab_type": "text"
      },
      "source": [
        "## 2. Preparando o Ambiente"
      ]
    },
    {
      "cell_type": "code",
      "metadata": {
        "papermill": {
          "duration": 5.253257,
          "end_time": "2020-03-16T00:08:03.296232",
          "exception": false,
          "start_time": "2020-03-16T00:07:58.042975",
          "status": "completed"
        },
        "tags": [],
        "id": "VDuPzt8bKsSJ",
        "colab_type": "code",
        "colab": {}
      },
      "source": [
        "import sys\n",
        "import warnings\n",
        "import matplotlib.pyplot as plt\n",
        "import matplotlib.cbook\n",
        "from matplotlib.ticker import MaxNLocator\n",
        "\n",
        "if not sys.warnoptions:\n",
        "    warnings.simplefilter(\"ignore\")\n",
        "warnings.simplefilter(action='ignore', category=FutureWarning)\n",
        "warnings.filterwarnings(\"ignore\", category=FutureWarning)\n",
        "warnings.filterwarnings(\"ignore\", category=matplotlib.cbook.mplDeprecation)\n",
        "\n",
        "# Bibliotecas padrões\n",
        "import numpy as np\n",
        "import matplotlib\n",
        "import pandas as pd\n",
        "import seaborn as sns\n",
        "import datetime\n",
        "from datetime import datetime, timedelta\n",
        "from pandas.tseries.offsets import DateOffset\n",
        "\n",
        "\n",
        "sns.set_context('talk')\n",
        "plt.style.use('seaborn-whitegrid')\n",
        "%matplotlib inline\n",
        "\n",
        "# Bibliotecas importantes\n",
        "import pymc3\n",
        "import arviz as az\n",
        "import altair as alt\n",
        "\n",
        "# Definindo tamanho da saida dos dados em tela\n",
        "pd.options.display.max_seq_items = 8000\n",
        "pd.set_option('display.max_columns', None)\n",
        "pd.set_option('display.max_rows', None)"
      ],
      "execution_count": 0,
      "outputs": []
    },
    {
      "cell_type": "code",
      "metadata": {
        "id": "0oL3F4DnKsSM",
        "colab_type": "code",
        "colab": {}
      },
      "source": [
        "# Versões dos pacotes usados neste jupyter notebook\n",
        "%reload_ext watermark\n",
        "%watermark -a \"Unimed-Blumenau\" --iversions"
      ],
      "execution_count": 0,
      "outputs": []
    },
    {
      "cell_type": "code",
      "metadata": {
        "id": "yOAygpKbNNwg",
        "colab_type": "code",
        "colab": {}
      },
      "source": [
        "!pip install pymc3 --upgrade"
      ],
      "execution_count": 0,
      "outputs": []
    },
    {
      "cell_type": "code",
      "metadata": {
        "id": "03OfNShRKziV",
        "colab_type": "code",
        "colab": {}
      },
      "source": [
        "from google.colab import files\n",
        "uploaded = files.upload()"
      ],
      "execution_count": 0,
      "outputs": []
    },
    {
      "cell_type": "code",
      "metadata": {
        "id": "13p3bFraKsSQ",
        "colab_type": "code",
        "colab": {}
      },
      "source": [
        "# Defini parametros do arquivo\n",
        "#path        = \"../data/\"                                   # caminho do diretorio dos dados\n",
        "file_name   = \"lista_pacientes_blumenau_15_05_20.xlsx\"     # nome do arquivo base da prefeitura\n",
        "sheet_name  = \"Previsao\"                                   # nome da aba dos valores para alimentar o modelo\n",
        "file_export = \"previsoes_blumenau_15_05_20.xlsx\"                    # nome do arquivo final com as previsoes\n",
        "encoding    = \"utf8\"                                       # tipo de encoding do arquivo\n",
        "\n",
        "# Definindo parametros para previsao\n",
        "city          = \"Blumenau\"                                 # nome da cidade a ser analisada\n",
        "num_caso_ini  = 98                                         # contar a partir de quantos casos\n",
        "qtd_dias_prev = 15                                         # quantidade de dias de forecast\n"
      ],
      "execution_count": 0,
      "outputs": []
    },
    {
      "cell_type": "markdown",
      "metadata": {
        "id": "TyJBqUsQKsSS",
        "colab_type": "text"
      },
      "source": [
        "## 3. Coletar dados sobre o COVID-19"
      ]
    },
    {
      "cell_type": "code",
      "metadata": {
        "id": "fJZ0Ae0UKsST",
        "colab_type": "code",
        "colab": {}
      },
      "source": [
        "# Define a função\n",
        "def coleta_dados():\n",
        "    \n",
        "    # Leitura do arquivo de origem\n",
        "    data = pd.read_excel (file_name, sheet_name=sheet_name, encoding=encoding)\n",
        "    \n",
        "    # Define os nomes das colunas\n",
        "    data = data[['DATA','QTDE_POSITIVADO_DIA','QTDE_POSITIVADO_TOTAL']]\n",
        "    data.columns = ['date', 'newCases', 'totalCases']\n",
        "    data['date'] = pd.to_datetime(data['date'])\n",
        "\n",
        "    # Colocando a data como index\n",
        "    data = data.set_index('date')\n",
        "\n",
        "    # Busca o número de dias desde o momento em que x casos confirmados foram cruzados\n",
        "    data['days_since'] = np.nan\n",
        "\n",
        "    # Marcando registros positivos acima de 'num_caso_ini' casos em Blumenau\n",
        "    data['days_since'] = np.arange(-len(data[data.totalCases < num_caso_ini]), len(data[data.totalCases >= num_caso_ini]))\n",
        "    \n",
        "    return data\n",
        "\n",
        "# Realizando a coleta dos dados\n",
        "dados_covid = coleta_dados()\n",
        "\n",
        "# Selecionando somente a partir de 'num_caso_ini' casos registrados de COVID-19\n",
        "dados_covid = dados_covid.loc[lambda x: (x.days_since >= 0)]"
      ],
      "execution_count": 0,
      "outputs": []
    },
    {
      "cell_type": "code",
      "metadata": {
        "id": "QzMQrmCnLZro",
        "colab_type": "code",
        "colab": {}
      },
      "source": [
        "dados_covid.head()"
      ],
      "execution_count": 0,
      "outputs": []
    },
    {
      "cell_type": "markdown",
      "metadata": {
        "id": "Rf-TfDB2KsSW",
        "colab_type": "text"
      },
      "source": [
        "## 4. Construção do Modelo"
      ]
    },
    {
      "cell_type": "code",
      "metadata": {
        "papermill": {
          "duration": 65.569078,
          "end_time": "2020-03-16T00:09:10.312441",
          "exception": false,
          "start_time": "2020-03-16T00:08:04.743363",
          "status": "completed"
        },
        "tags": [],
        "id": "rihFLIx5KsSW",
        "colab_type": "code",
        "colab": {}
      },
      "source": [
        "# Funcao para criacao do modelo\n",
        "def create_model():\n",
        "    \n",
        "    # Criação do Modelo\n",
        "    with pymc3.Model() as modelo:\n",
        "\n",
        "        # Definimos o intercepto\n",
        "        a_grp = pymc3.Normal('a_grp', 100, 50)\n",
        "        a_grp_sigma = pymc3.HalfNormal('a_grp_sigma', 50)\n",
        "        a_ind = pymc3.Normal('a_ind', mu = a_grp, sigma = a_grp_sigma, shape = 1)\n",
        "\n",
        "        # Definimos o slope\n",
        "        b_grp = pymc3.Normal('b_grp', 1.33, .5)\n",
        "        b_grp_sigma = pymc3.HalfNormal('b_grp_sigma', .5)\n",
        "        b_ind = pymc3.Normal('b_ind', mu = b_grp, sigma = b_grp_sigma, shape = 1)\n",
        "\n",
        "        # Erro\n",
        "        sigma = pymc3.HalfNormal('sigma', 500., shape = 1)\n",
        "\n",
        "        # Criar probabilidades\n",
        "        x = pymc3.Data(city + \"x_data\", dados_covid.days_since.values)\n",
        "        confirmed = pymc3.Data(city + \"y_data\", dados_covid.totalCases.astype('float64').values)\n",
        "\n",
        "        # Negative Binomial\n",
        "        pymc3.NegativeBinomial(city,\n",
        "                               (a_ind * b_ind ** x), \n",
        "                               sigma, \n",
        "                               observed = confirmed)\n",
        "        \n",
        "    return modelo\n",
        "\n",
        "# Funcao para realizar as previsoes com base no modelo\n",
        "def fit_model(modelo):\n",
        "    with modelo:\n",
        "\n",
        "        # Amostra posterior\n",
        "        trace = pymc3.sample(tune = 1500, chains = 1, cores = 1, target_accept = .9, progressbar = True)\n",
        "\n",
        "        # Atualiza os dados para que possamos obter previsões para o futuro\n",
        "        x_data = np.arange(0, dados_covid.shape[0] + qtd_dias_prev)\n",
        "        y_data = np.array([np.nan] * len(x_data))\n",
        "        pymc3.set_data({city + \"x_data\": x_data})\n",
        "        pymc3.set_data({city + \"y_data\": y_data})\n",
        "\n",
        "        # Previsão da amostra posterior (100 amostras)\n",
        "        previsoes = pymc3.sample_posterior_predictive(trace, samples = 100)\n",
        "\n",
        "    return trace, previsoes"
      ],
      "execution_count": 0,
      "outputs": []
    },
    {
      "cell_type": "markdown",
      "metadata": {
        "id": "OaHWLj_WKsSa",
        "colab_type": "text"
      },
      "source": [
        "## 5. Execução do Modelo"
      ]
    },
    {
      "cell_type": "code",
      "metadata": {
        "id": "3GhqUjVlKsSb",
        "colab_type": "code",
        "colab": {}
      },
      "source": [
        "%%time\n",
        "\n",
        "# Criacao do modelo\n",
        "model = create_model()\n",
        "\n",
        "# Realizando as previsoes\n",
        "trace, previsoes = fit_model(model)\n",
        "\n",
        "# Avaliação do Modelo\n",
        "az.plot_trace(trace, compact = True);"
      ],
      "execution_count": 0,
      "outputs": []
    },
    {
      "cell_type": "markdown",
      "metadata": {
        "id": "MUKWvYW7KsSh",
        "colab_type": "text"
      },
      "source": [
        "## 6. Gráficos"
      ]
    },
    {
      "cell_type": "code",
      "metadata": {
        "id": "dSrUuYvJKsSi",
        "colab_type": "code",
        "colab": {}
      },
      "source": [
        "# Funcao para completar as datas futuras\n",
        "def fill_prev_date(df, fill_value=0):\n",
        "\n",
        "    idx = pd.date_range(df[0], df[0]+DateOffset(days=df.shape[0]-1),freq='D')\n",
        "    df = df.reindex(idx, fill_value=fill_value)\n",
        "    df['date'] = pd.DatetimeIndex(df.index)\n",
        "\n",
        "    return df"
      ],
      "execution_count": 0,
      "outputs": []
    },
    {
      "cell_type": "code",
      "metadata": {
        "scrolled": false,
        "id": "S2gxZpDmKsSl",
        "colab_type": "code",
        "colab": {}
      },
      "source": [
        "# Renomeando coluna para realizar o merge com as previsoes\n",
        "dfBlumenauSC = dados_covid.rename(columns={\"days_since\": \"days\"})\n",
        "dfBlumenauSC = dfBlumenauSC.reset_index()\n",
        "\n",
        "# Convertendo as previsoes para dataframe\n",
        "pred = previsoes[city].T\n",
        "df_previsoes = pd.DataFrame(pred)\n",
        "df_previsoes = df_previsoes.reset_index()\n",
        "df_previsoes = df_previsoes.rename(columns={\"index\": \"days\"})\n",
        "\n",
        "# Realizando o merge dos dois datasets (como chave o dia)\n",
        "merge = pd.merge(dfBlumenauSC, df_previsoes, on=['days'], how='right')\n",
        "\n",
        "# Selecionando apenas a média das 100 probabilidades\n",
        "col = merge.iloc[:, 4:merge.shape[1]]\n",
        "\n",
        "# Criando novas colunas para o gráfico\n",
        "merge['media']       = col.mean(axis = 1)\n",
        "merge['min']         = col.min(axis = 1) \n",
        "merge['max']         = col.max(axis = 1) \n",
        "\n",
        "# Ordenando valores para o grafico\n",
        "merge['media'] = merge['media'].sort_values().values\n",
        "merge['min'] = merge['min'].sort_values().values\n",
        "merge['max'] = merge['max'].sort_values().values\n",
        "\n",
        "# Preenchendo valores nulos\n",
        "merge['grafico_avg'] = merge['totalCases']\n",
        "merge['grafico_avg'] = merge['grafico_avg'].fillna(merge['media'])\n",
        "merge['grafico_min'] = merge['totalCases']\n",
        "merge['grafico_min'] = merge['grafico_min'].fillna(merge['min'])\n",
        "merge['grafico_max'] = merge['totalCases']\n",
        "merge['grafico_max'] = merge['grafico_max'].fillna(merge['max'])\n",
        "\n",
        "merge[['date','totalCases','media','min','max','grafico_avg','grafico_min','grafico_max']]\n",
        "\n",
        "# Preenchendo as datas futuras com nulo\n",
        "new_data = fill_prev_date(df=merge['date'])\n",
        "merge['date'] = new_data['date']\n",
        "merge['date'] = merge['date'].dt.strftime('%d-%m-%Y')"
      ],
      "execution_count": 0,
      "outputs": []
    },
    {
      "cell_type": "code",
      "metadata": {
        "id": "keQu_jjPKsSn",
        "colab_type": "code",
        "colab": {}
      },
      "source": [
        "############# EXIBINDO GRÁFICO GERAL ###############\n",
        "fig, ax = plt.subplots(nrows = 1, ncols = 1, figsize = (28, 14), sharex = True)\n",
        "\n",
        "ax.plot(merge.date, merge.totalCases, color='b', linewidth=7)\n",
        "ax.plot(merge.date, merge['media'], alpha = 1, color = '.5', ls = '--', linewidth=7)\n",
        "ax.plot(merge.date, merge['min'],   alpha = 1, color = 'g', linewidth=7)\n",
        "ax.plot(merge.date, merge['max'],   alpha = 1, color = 'r', linewidth=7)\n",
        "#ax.plot(covid_blumenau.date, covid_blumenau['recover'],  color = 'pink')\n",
        "\n",
        "ax.plot(merge.date, merge.totalCases, color='b')\n",
        "#ax.set_ylim(0, 650)\n",
        "ax.xaxis.set_major_locator(MaxNLocator(integer=True))\n",
        "ax.set_title('Previsão do crescimento dos casos confirmados de COVID-19 em Blumenau (modelo baseline '+str(datetime.now().date())+')', fontsize=20)\n",
        "ax.legend(['Dados Observados', 'Previsão Média', 'Previsão Otimista', 'Previsão Pessimista'])\n",
        "ax.set(ylabel = 'Casos')\n",
        "\n",
        "xs = merge.date\n",
        "\n",
        "# Valores na linha de casos reais    \n",
        "ys = merge['totalCases']\n",
        "for x, y in zip(xs,ys):\n",
        "    label = \"{:.0f}\".format(y)\n",
        "    plt.annotate(label,\n",
        "                 (x,y),\n",
        "                 textcoords=\"offset points\",\n",
        "                 xytext=(0,10),\n",
        "                 weight='bold',\n",
        "                 fontsize=16,\n",
        "                 ha='center') \n",
        "\n",
        "\n",
        "# Valores na linha de medio    \n",
        "ys = merge['grafico_avg']\n",
        "for x, y in zip(xs,ys):\n",
        "    label = \"{:.0f}\".format(y)\n",
        "    plt.annotate(label,\n",
        "                 (x,y),\n",
        "                 textcoords=\"offset points\",\n",
        "                 xytext=(0,10),\n",
        "                 weight='bold',\n",
        "                 fontsize=16,\n",
        "                 ha='center') \n",
        "    \n",
        "# Valores na linha de Otimista    \n",
        "ys = merge['grafico_min']\n",
        "for x, y in zip(xs,ys):\n",
        "    label = \"{:.0f}\".format(y)\n",
        "    plt.annotate(label,\n",
        "                 (x,y),\n",
        "                 textcoords=\"offset points\",\n",
        "                 xytext=(0,10),\n",
        "                 weight='bold',\n",
        "                 fontsize=16,\n",
        "                 ha='center')   \n",
        "\n",
        "# Valores na linha de Pessimista    \n",
        "ys = merge['grafico_max']\n",
        "for x, y in zip(xs,ys):\n",
        "    label = \"{:.0f}\".format(y)\n",
        "    plt.annotate(label,\n",
        "                 (x,y),\n",
        "                 textcoords=\"offset points\",\n",
        "                 xytext=(0,10),\n",
        "                 weight='bold',\n",
        "                 fontsize=16,\n",
        "                 ha='center') \n",
        "\n",
        "fig.tight_layout();\n",
        "\n"
      ],
      "execution_count": 0,
      "outputs": []
    },
    {
      "cell_type": "markdown",
      "metadata": {
        "id": "AEiQopY4KsSq",
        "colab_type": "text"
      },
      "source": [
        "## 7. Exportar para Excel"
      ]
    },
    {
      "cell_type": "code",
      "metadata": {
        "id": "_o0OjTumKsSq",
        "colab_type": "code",
        "colab": {}
      },
      "source": [
        "merge.to_excel(path+file_export, index=False)"
      ],
      "execution_count": 0,
      "outputs": []
    },
    {
      "cell_type": "markdown",
      "metadata": {
        "id": "Xl-McqCHKsSt",
        "colab_type": "text"
      },
      "source": [
        "# Fim"
      ]
    }
  ]
}